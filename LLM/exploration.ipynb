{
 "cells": [
  {
   "cell_type": "markdown",
   "id": "2b661ee8",
   "metadata": {},
   "source": [
    "Currently, all the data are in tabular format. \n",
    "In order for LLM to understand the information, we need to take one of two approaches: \n",
    "1. transform it into a prompt-answer format \n",
    "2. use tabular LLM\n",
    "3. join all table with \",\" \" \" \";\".\n",
    "\n",
    "We can try with the third approach first. This requires less data pre-processing. "
   ]
  },
  {
   "cell_type": "code",
   "execution_count": null,
   "id": "d2bc46c9",
   "metadata": {},
   "outputs": [],
   "source": [
    "import pandas as pd\n",
    "path = \"../data\"\n",
    "\n",
    "df = pd.read_csv(path + \"1.csv\")\n",
    "\n",
    "for row in df: \n",
    "    print('Hi')"
   ]
  },
  {
   "cell_type": "code",
   "execution_count": null,
   "id": "1ddbcb13",
   "metadata": {},
   "outputs": [],
   "source": [
    "# tabular LLM \n",
    "\n"
   ]
  }
 ],
 "metadata": {
  "kernelspec": {
   "display_name": ".venv",
   "language": "python",
   "name": "python3"
  },
  "language_info": {
   "name": "python",
   "version": "3.11.0"
  }
 },
 "nbformat": 4,
 "nbformat_minor": 5
}
